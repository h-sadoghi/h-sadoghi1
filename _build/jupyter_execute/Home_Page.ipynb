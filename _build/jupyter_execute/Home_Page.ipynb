{
 "cells": [
  {
   "cell_type": "markdown",
   "metadata": {},
   "source": [
    "<center>\n",
    "<img src=\"Hadi_Sadoghi_Yazdi.png\" alt=\"Hadi Sadoghi Yazdi\" style=\"width:50%; background: transparent;\">\n",
    "</center>\n",
    "\n",
    "<!DOCTYPE html>\n",
    "<html lang=\"en\">\n",
    "<head>\n",
    "<meta charset=\"UTF-8\">\n",
    "<meta name=\"viewport\" content=\"width=device-width, initial-scale=1.0\">\n",
    "<style>\n",
    "    .navbar {\n",
    "        overflow: hidden;\n",
    "        text-align: center;\n",
    "        border-bottom: 2px solid #B25E07;\n",
    "    }\n",
    "    .navbar a {\n",
    "        display: inline-block;\n",
    "        color: inherit;\n",
    "        text-align: center;\n",
    "        padding: 14px 20px;\n",
    "        text-decoration: none;\n",
    "        font-size: 17px;\n",
    "        border: 2px solid transparent;\n",
    "    }\n",
    "    .navbar a:hover, .navbar a.active {\n",
    "        border-color: #B25E07;\n",
    "        color: #B25E07;\n",
    "    }\n",
    "</style>\n",
    "</head>\n",
    "<body>\n",
    "\n",
    "\n",
    "<div class=\"navbar\">\n",
    "  <a href=\"Home_Page.html\" class=\"active\">Home Page</a>\n",
    "  <a href=\"Courses.html\">Courses</a>\n",
    "  <a href=\"Blog.html\">Blog</a>\n",
    "  <a href=\"Contact_Me.html\">Contact Me</a>\n",
    "  <a href=\"About_Me.html\">About Me</a>\n",
    "</div>\n",
    "\n",
    "</body>\n",
    "</html>\n"
   ]
  },
  {
   "cell_type": "markdown",
   "metadata": {},
   "source": [
    "# Home Page"
   ]
  },
  {
   "cell_type": "markdown",
   "metadata": {},
   "source": [
    "## Welcome to Dr. Sadoghi's Educational Website!\n",
    "\n",
    "---\n",
    "\n",
    "We are delighted to have you here. Dr. Sadoughi, a **professor** in the field of **Artificial Intelligence** at Ferdowsi University of Mashhad, has dedicated this platform to sharing his extensive knowledge and expertise. This website is designed to provide you with a comprehensive collection of educational materials and documents meticulously prepared by Dr. Sadoughi himself.\n",
    "\n",
    "Whether you are a student eager to learn, a professional looking to deepen your understanding, or simply someone interested in the fascinating world of Artificial Intelligence, you will find valuable resources here to support your journey.\n",
    "\n",
    "---\n",
    "\n",
    "Thank you for visiting, and we hope you find this site both informative and inspiring.\n",
    "\n",
    "**Warm regards,**\n",
    "\n",
    "*Dr. Sadoghi*\n"
   ]
  }
 ],
 "metadata": {
  "kernelspec": {
   "display_name": "Howsam",
   "language": "python",
   "name": "python3"
  },
  "language_info": {
   "codemirror_mode": {
    "name": "ipython",
    "version": 3
   },
   "file_extension": ".py",
   "mimetype": "text/x-python",
   "name": "python",
   "nbconvert_exporter": "python",
   "pygments_lexer": "ipython3",
   "version": "3.10.13"
  }
 },
 "nbformat": 4,
 "nbformat_minor": 2
}